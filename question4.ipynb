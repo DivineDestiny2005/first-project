{
 "cells": [
  {
   "cell_type": "code",
   "execution_count": null,
   "id": "9acceb64",
   "metadata": {},
   "outputs": [],
   "source": [
    "\n",
    "groceryItems=[]\n",
    "def enterProduct():\n",
    "    i=input('Enter a Shopping Item')\n",
    "    return i\n",
    "\n",
    "def addItems(val,lst):\n",
    "    lst.append(val)\n",
    "    return lst\n",
    "\n",
    "def showDisplay(lst):\n",
    "    print('Showing Shopping list', lst)\n",
    "    addAnotherGrocery()\n",
    "    \n",
    "def searchItems():\n",
    "    search_grocery=input('Enter grocer item to search')\n",
    "    chk=groceryItems.count(search_grocery)\n",
    "    if search_grocery in groceryItems:\n",
    "        \n",
    "        print('Your Grocery item',search_grocery, 'is found', chk, 'time(s)' )\n",
    "    else:\n",
    "        print('Your Grocery item',search_grocery,'was not found, please check your spelling or input another item.')\n",
    "    showDisplay(r)\n",
    "              \n",
    "def addAnotherGrocery():\n",
    "    x=input('Enter A to add | S to show grocery list | R to Search Grocerylist | E to Exit')\n",
    "    if x=='A':\n",
    "        print('Adding to grocery...')\n",
    "        x=enterProduct()\n",
    "        d=addItems(x, groceryItems)\n",
    "        showDisplay(d)\n",
    "    if x=='S':\n",
    "        showDisplay(groceryItems)\n",
    "    elif x=='R':\n",
    "        searchItems()\n",
    "    elif x=='E':\n",
    "        print('You are exiting the Shopping list ')\n",
    "  \n",
    "              \n",
    "i=enterProduct()\n",
    "r=addItems(i, groceryItems)\n",
    "showDisplay(r)            \n",
    "\n",
    "\n",
    "\n",
    "\n",
    "\n",
    "        "
   ]
  },
  {
   "cell_type": "code",
   "execution_count": null,
   "id": "7acd36d1",
   "metadata": {},
   "outputs": [],
   "source": []
  },
  {
   "cell_type": "code",
   "execution_count": null,
   "id": "d37d47af",
   "metadata": {},
   "outputs": [],
   "source": []
  },
  {
   "cell_type": "code",
   "execution_count": null,
   "id": "7c33c6f9",
   "metadata": {},
   "outputs": [],
   "source": []
  }
 ],
 "metadata": {
  "kernelspec": {
   "display_name": "Python 3 (ipykernel)",
   "language": "python",
   "name": "python3"
  },
  "language_info": {
   "codemirror_mode": {
    "name": "ipython",
    "version": 3
   },
   "file_extension": ".py",
   "mimetype": "text/x-python",
   "name": "python",
   "nbconvert_exporter": "python",
   "pygments_lexer": "ipython3",
   "version": "3.11.1"
  }
 },
 "nbformat": 4,
 "nbformat_minor": 5
}
