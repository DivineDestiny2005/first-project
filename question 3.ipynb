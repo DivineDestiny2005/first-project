{
 "cells": [
  {
   "cell_type": "code",
   "execution_count": 16,
   "id": "3e58b345",
   "metadata": {},
   "outputs": [
    {
     "name": "stdout",
     "output_type": "stream",
     "text": [
      "([' Old boy', 'simple', 'Attenuate', 'Shy ones', 'Toxic things', 'Silent words', 'Big daddy', 'Juvenile', 'Mothers love', 'The foxes', 'IT today'], ['the living light', 'Nigeria election'], ['Happy', 'Brave'])\n",
      "<class 'tuple'>\n"
     ]
    }
   ],
   "source": [
    "data=['the living light','Happy', 'Brave', ' Old boy','simple','Attenuate','Shy ones', 'Toxic things'\n",
    "      ,'Silent words','Big daddy','Juvenile','Mothers love','The foxes', 'Nigeria election', 'IT today']\n",
    "\n",
    "def questionS4(data):\n",
    "    morethan5less15=[]\n",
    "    morethan15=[]\n",
    "    notfit=[]\n",
    "    \n",
    "    for string in data:\n",
    "        y=len(string)>5\n",
    "        z=len(string)<15\n",
    "        s=len(string)>15\n",
    "        if y and z:\n",
    "            morethan5less15.append(string)\n",
    "        elif s:\n",
    "            morethan15.append(string)\n",
    "        else:\n",
    "            notfit.append(string)\n",
    "            \n",
    "    return morethan5less15, morethan15, notfit\n",
    "\n",
    "x=questionS4(data)\n",
    "print(x)\n",
    "print(type(x))"
   ]
  },
  {
   "cell_type": "code",
   "execution_count": null,
   "id": "708da4d8",
   "metadata": {},
   "outputs": [],
   "source": []
  }
 ],
 "metadata": {
  "kernelspec": {
   "display_name": "Python 3 (ipykernel)",
   "language": "python",
   "name": "python3"
  },
  "language_info": {
   "codemirror_mode": {
    "name": "ipython",
    "version": 3
   },
   "file_extension": ".py",
   "mimetype": "text/x-python",
   "name": "python",
   "nbconvert_exporter": "python",
   "pygments_lexer": "ipython3",
   "version": "3.11.1"
  }
 },
 "nbformat": 4,
 "nbformat_minor": 5
}
